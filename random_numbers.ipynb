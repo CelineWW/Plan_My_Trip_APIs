{
 "cells": [
  {
   "cell_type": "code",
   "execution_count": 1,
   "id": "7488cd0f",
   "metadata": {},
   "outputs": [],
   "source": [
    "# Import the random module.\n",
    "import random"
   ]
  },
  {
   "cell_type": "code",
   "execution_count": 7,
   "id": "6eb66967",
   "metadata": {},
   "outputs": [
    {
     "data": {
      "text/plain": [
       "-22"
      ]
     },
     "execution_count": 7,
     "metadata": {},
     "output_type": "execute_result"
    }
   ],
   "source": [
    "random.randint(-90, 90)"
   ]
  },
  {
   "cell_type": "code",
   "execution_count": 11,
   "id": "b90faefe",
   "metadata": {},
   "outputs": [
    {
     "data": {
      "text/plain": [
       "0.8646518509052471"
      ]
     },
     "execution_count": 11,
     "metadata": {},
     "output_type": "execute_result"
    }
   ],
   "source": [
    "random.random()"
   ]
  },
  {
   "cell_type": "code",
   "execution_count": 15,
   "id": "25cb15ad",
   "metadata": {},
   "outputs": [
    {
     "data": {
      "text/plain": [
       "-26.494666455681386"
      ]
     },
     "execution_count": 15,
     "metadata": {},
     "output_type": "execute_result"
    }
   ],
   "source": [
    "random_number = random.randint(-90, 90) + random.random()\n",
    "random_number"
   ]
  },
  {
   "cell_type": "code",
   "execution_count": 19,
   "id": "4767e3ba",
   "metadata": {},
   "outputs": [
    {
     "data": {
      "text/plain": [
       "[26.922760509370878,\n",
       " -81.84441256955026,\n",
       " 37.48328458731637,\n",
       " 38.832126466168596,\n",
       " 90.83601845074313,\n",
       " 9.430701354401188,\n",
       " -62.25513119909945,\n",
       " 15.741875416211734,\n",
       " -17.877049274435983,\n",
       " -32.79610916898724]"
      ]
     },
     "execution_count": 19,
     "metadata": {},
     "output_type": "execute_result"
    }
   ],
   "source": [
    "x = 1\n",
    "latitudes = []\n",
    "while x < 11:\n",
    "    random_lat = random.randint(-90, 90) + random.random()\n",
    "    latitudes.append(random_lat)\n",
    "    x += 1\n",
    "    \n",
    "latitudes"
   ]
  },
  {
   "cell_type": "code",
   "execution_count": 22,
   "id": "c806abdb",
   "metadata": {},
   "outputs": [
    {
     "data": {
      "text/plain": [
       "42"
      ]
     },
     "execution_count": 22,
     "metadata": {},
     "output_type": "execute_result"
    }
   ],
   "source": [
    "random.randrange(-90, 90, step=3)"
   ]
  },
  {
   "cell_type": "code",
   "execution_count": 25,
   "id": "1e8081d9",
   "metadata": {},
   "outputs": [
    {
     "data": {
      "text/plain": [
       "1.6438423799029778"
      ]
     },
     "execution_count": 25,
     "metadata": {},
     "output_type": "execute_result"
    }
   ],
   "source": [
    "random.uniform(-90, 90)"
   ]
  },
  {
   "cell_type": "code",
   "execution_count": 26,
   "id": "d075f935",
   "metadata": {},
   "outputs": [],
   "source": [
    "# Import the NumPy module.\n",
    "import numpy as np"
   ]
  },
  {
   "cell_type": "code",
   "execution_count": 27,
   "id": "dc8b0d6c",
   "metadata": {},
   "outputs": [
    {
     "data": {
      "text/plain": [
       "array([ 70.67666903, -73.25070192, -17.06200649,  43.57450571,\n",
       "        47.5593836 ,  88.23696378,  51.15801915, -45.36528062,\n",
       "       -44.26085794, -47.1700457 , -88.98718977, -23.8076909 ,\n",
       "         1.89788425, -89.83635304, -36.66638698,  63.74354063,\n",
       "       -55.5709521 , -32.48227381,  35.75502264,  13.15384235,\n",
       "       -55.48765529, -29.78195093,  49.8682292 ,  12.2964596 ,\n",
       "       -56.72098678,  44.95274043, -28.02016571,  53.24919677,\n",
       "       -24.63494206, -10.78317379, -79.42440921, -58.55419463,\n",
       "        61.67877382,   7.30386112,  14.78101739, -34.53242576,\n",
       "         3.55461607,  58.09192177, -51.06669401, -16.13193952,\n",
       "        85.31677803,  15.56231976, -66.89509657, -14.38577809,\n",
       "        55.63870902,  84.07893673, -21.65376497, -54.11671511,\n",
       "        56.25166549,  50.08220697])"
      ]
     },
     "execution_count": 27,
     "metadata": {},
     "output_type": "execute_result"
    }
   ],
   "source": [
    "np.random.uniform(-90.000, 90.000, size=50)\n",
    "#  or: np.random.uniform(low=-90.000, high=90.000, size=50)"
   ]
  },
  {
   "cell_type": "code",
   "execution_count": 28,
   "id": "d8123419",
   "metadata": {},
   "outputs": [],
   "source": [
    "# Import timeit.\n",
    "import timeit"
   ]
  },
  {
   "cell_type": "code",
   "execution_count": 29,
   "id": "51909cc7",
   "metadata": {},
   "outputs": [
    {
     "name": "stdout",
     "output_type": "stream",
     "text": [
      "18.1 µs ± 1.25 µs per loop (mean ± std. dev. of 7 runs, 100000 loops each)\n"
     ]
    }
   ],
   "source": [
    "%timeit np.random.uniform(-90.000, 90.000, size=1500)"
   ]
  },
  {
   "cell_type": "code",
   "execution_count": 35,
   "id": "fcca1ba0",
   "metadata": {},
   "outputs": [
    {
     "name": "stdout",
     "output_type": "stream",
     "text": [
      "3.07 ms ± 477 µs per loop (mean ± std. dev. of 7 runs, 100 loops each)\n"
     ]
    }
   ],
   "source": [
    "def latitudes(size):\n",
    "    latitudes = []\n",
    "    x = 0\n",
    "    while x < (size):\n",
    "        random_lat = random.randint(-90, 90) + random.random()\n",
    "        latitudes.append(random_lat)\n",
    "        x += 1\n",
    "    return latitudes\n",
    "\n",
    "# Call the function with 1500.\n",
    "%timeit latitudes(1500)"
   ]
  },
  {
   "cell_type": "code",
   "execution_count": 37,
   "id": "a83208e0",
   "metadata": {},
   "outputs": [
    {
     "name": "stdout",
     "output_type": "stream",
     "text": [
      "3.2 ms ± 475 µs per loop (mean ± std. dev. of 7 runs, 100 loops each)\n"
     ]
    }
   ],
   "source": [
    "def latitudes_1(size):\n",
    "    latitudes_1 = []\n",
    "    for x in range(size):\n",
    "        random_lat = random.randint(-90, 90) + random.random()\n",
    "        latitudes_1.append(random_lat)\n",
    "        x += 1\n",
    "\n",
    "# Call the function with 1500.\n",
    "%timeit latitudes_1(1500)"
   ]
  },
  {
   "cell_type": "code",
   "execution_count": null,
   "id": "ea26e62e",
   "metadata": {},
   "outputs": [],
   "source": []
  }
 ],
 "metadata": {
  "kernelspec": {
   "display_name": "PythonData",
   "language": "python",
   "name": "pythondata"
  },
  "language_info": {
   "codemirror_mode": {
    "name": "ipython",
    "version": 3
   },
   "file_extension": ".py",
   "mimetype": "text/x-python",
   "name": "python",
   "nbconvert_exporter": "python",
   "pygments_lexer": "ipython3",
   "version": "3.7.13"
  }
 },
 "nbformat": 4,
 "nbformat_minor": 5
}
